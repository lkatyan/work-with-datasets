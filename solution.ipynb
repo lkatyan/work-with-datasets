{
  "cells": [
    {
      "cell_type": "markdown",
      "metadata": {
        "toc": true,
        "id": "hA22GUeS9GAG"
      },
      "source": [
        "<h1>Table of Contents<span class=\"tocSkip\"></span></h1>\n",
        "<div class=\"toc\"><ul class=\"toc-item\"><li><span><a href=\"#-Homework-1-(Topics-1-4:-Data-Structures,-Indexing,-Cleaning-Data,-Math)\" data-toc-modified-id=\"-Homework-1-(Topics-1-4:-Data-Structures,-Indexing,-Cleaning-Data,-Math)-1\"><span class=\"toc-item-num\">1&nbsp;&nbsp;</span><center> Homework 1 (Topics 1-4: Data Structures, Indexing, Cleaning Data, Math)</center></a></span><ul class=\"toc-item\"><li><ul class=\"toc-item\"><li><ul class=\"toc-item\"><li><span><a href=\"#Task-1.\" data-toc-modified-id=\"Task-1.-1.0.0.1\"><span class=\"toc-item-num\">1.0.0.1&nbsp;&nbsp;</span>Task 1.</a></span></li><li><span><a href=\"#Варианты-ответов:\" data-toc-modified-id=\"Варианты-ответов:-1.0.0.2\"><span class=\"toc-item-num\">1.0.0.2&nbsp;&nbsp;</span>Варианты ответов:</a></span></li><li><span><a href=\"#Task-2.\" data-toc-modified-id=\"Task-2.-1.0.0.3\"><span class=\"toc-item-num\">1.0.0.3&nbsp;&nbsp;</span>Task 2.</a></span></li><li><span><a href=\"#Вопросы:\" data-toc-modified-id=\"Вопросы:-1.0.0.4\"><span class=\"toc-item-num\">1.0.0.4&nbsp;&nbsp;</span>Вопросы:</a></span></li><li><span><a href=\"#Task-3.\" data-toc-modified-id=\"Task-3.-1.0.0.5\"><span class=\"toc-item-num\">1.0.0.5&nbsp;&nbsp;</span>Task 3.</a></span></li><li><span><a href=\"#Выберите-все-верные-пункты:\" data-toc-modified-id=\"Выберите-все-верные-пункты:-1.0.0.6\"><span class=\"toc-item-num\">1.0.0.6&nbsp;&nbsp;</span>Выберите все верные пункты:</a></span></li><li><span><a href=\"#Task-4.\" data-toc-modified-id=\"Task-4.-1.0.0.7\"><span class=\"toc-item-num\">1.0.0.7&nbsp;&nbsp;</span>Task 4.</a></span></li><li><span><a href=\"#Пояснения:\" data-toc-modified-id=\"Пояснения:-1.0.0.8\"><span class=\"toc-item-num\">1.0.0.8&nbsp;&nbsp;</span>Пояснения:</a></span></li></ul></li><li><span><a href=\"#Информация-для-последующих-заданий\" data-toc-modified-id=\"Информация-для-последующих-заданий-1.0.1\"><span class=\"toc-item-num\">1.0.1&nbsp;&nbsp;</span>Информация для последующих заданий</a></span></li></ul></li><li><span><a href=\"#Описание-данных\" data-toc-modified-id=\"Описание-данных-1.1\"><span class=\"toc-item-num\">1.1&nbsp;&nbsp;</span>Описание данных</a></span><ul class=\"toc-item\"><li><span><a href=\"#Таблица-transactions.csv\" data-toc-modified-id=\"Таблица-transactions.csv-1.1.1\"><span class=\"toc-item-num\">1.1.1&nbsp;&nbsp;</span>Таблица <code>transactions.csv</code></a></span></li><li><span><a href=\"#Таблица-gender_train.csv\" data-toc-modified-id=\"Таблица-gender_train.csv-1.1.2\"><span class=\"toc-item-num\">1.1.2&nbsp;&nbsp;</span>Таблица <code>gender_train.csv</code></a></span></li><li><span><a href=\"#Таблица-tr_mcc_codes.csv\" data-toc-modified-id=\"Таблица-tr_mcc_codes.csv-1.1.3\"><span class=\"toc-item-num\">1.1.3&nbsp;&nbsp;</span>Таблица <code>tr_mcc_codes.csv</code></a></span></li><li><span><a href=\"#Таблица-tr_types.csv\" data-toc-modified-id=\"Таблица-tr_types.csv-1.1.4\"><span class=\"toc-item-num\">1.1.4&nbsp;&nbsp;</span>Таблица <code>tr_types.csv</code></a></span><ul class=\"toc-item\"><li><span><a href=\"#Task-5.\" data-toc-modified-id=\"Task-5.-1.1.4.1\"><span class=\"toc-item-num\">1.1.4.1&nbsp;&nbsp;</span>Task 5.</a></span></li><li><span><a href=\"#Task-6.\" data-toc-modified-id=\"Task-6.-1.1.4.2\"><span class=\"toc-item-num\">1.1.4.2&nbsp;&nbsp;</span>Task 6.</a></span></li><li><span><a href=\"#Выберите-все-верные-пункты:\" data-toc-modified-id=\"Выберите-все-верные-пункты:-1.1.4.3\"><span class=\"toc-item-num\">1.1.4.3&nbsp;&nbsp;</span>Выберите все верные пункты:</a></span></li><li><span><a href=\"#Task-7.\" data-toc-modified-id=\"Task-7.-1.1.4.4\"><span class=\"toc-item-num\">1.1.4.4&nbsp;&nbsp;</span>Task 7.</a></span></li><li><span><a href=\"#Выберите-все-верные-пункты:\" data-toc-modified-id=\"Выберите-все-верные-пункты:-1.1.4.5\"><span class=\"toc-item-num\">1.1.4.5&nbsp;&nbsp;</span>Выберите все верные пункты:</a></span></li><li><span><a href=\"#Task-8.\" data-toc-modified-id=\"Task-8.-1.1.4.6\"><span class=\"toc-item-num\">1.1.4.6&nbsp;&nbsp;</span>Task 8.</a></span></li></ul></li></ul></li></ul></li></ul></div>\n",
        "\n",
        "\n",
        "<div class=\"toc\"><ul class=\"toc-item\"><li><span><a href=\"#-Homework-2-(Topics-5-7:-Groupby,-Merge,-Visualization)\" data-toc-modified-id=\"-Homework-2-(Topics-5-7:-Groupby,-Merge,-Visualization)-1\"><span class=\"toc-item-num\">1&nbsp;&nbsp;</span><center> Homework 2 (Topics 5-7: Groupby, Merge, Visualization)</center></a></span><ul class=\"toc-item\"><li><ul class=\"toc-item\"><li><ul class=\"toc-item\"><li><span><a href=\"#Task-0.\" data-toc-modified-id=\"Task-0.-1.0.0.1\"><span class=\"toc-item-num\">1.0.0.1&nbsp;&nbsp;</span>Task 0.</a></span></li><li><span><a href=\"#Task-1.\" data-toc-modified-id=\"Task-1.-1.0.0.2\"><span class=\"toc-item-num\">1.0.0.2&nbsp;&nbsp;</span>Task 1.</a></span></li><li><span><a href=\"#Task-2:\" data-toc-modified-id=\"Task-2:-1.0.0.3\"><span class=\"toc-item-num\">1.0.0.3&nbsp;&nbsp;</span>Task 2:</a></span></li><li><span><a href=\"#Task-3:\" data-toc-modified-id=\"Task-3:-1.0.0.4\"><span class=\"toc-item-num\">1.0.0.4&nbsp;&nbsp;</span>Task 3:</a></span></li><li><span><a href=\"#Task-4:\" data-toc-modified-id=\"Task-4:-1.0.0.5\"><span class=\"toc-item-num\">1.0.0.5&nbsp;&nbsp;</span>Task 4:</a></span></li><li><span><a href=\"#Task-5:\" data-toc-modified-id=\"Task-5:-1.0.0.6\"><span class=\"toc-item-num\">1.0.0.6&nbsp;&nbsp;</span>Task 5:</a></span></li><li><span><a href=\"#Вопросы:\" data-toc-modified-id=\"Вопросы:-1.0.0.7\"><span class=\"toc-item-num\">1.0.0.7&nbsp;&nbsp;</span>Вопросы:</a></span></li><li><span><a href=\"#Task-6:\" data-toc-modified-id=\"Task-6:-1.0.0.8\"><span class=\"toc-item-num\">1.0.0.8&nbsp;&nbsp;</span>Task 6:</a></span></li><li><span><a href=\"#Вопросы:\" data-toc-modified-id=\"Вопросы:-1.0.0.9\"><span class=\"toc-item-num\">1.0.0.9&nbsp;&nbsp;</span>Вопросы:</a></span></li></ul></li></ul></li></ul></li></ul></div>"
      ]
    },
    {
      "cell_type": "markdown",
      "metadata": {
        "id": "sJ9yKYkf9GAO"
      },
      "source": [
        "# <center> Homework 1 (Topics 1-4: Data Structures, Indexing, Cleaning Data, Math)"
      ]
    },
    {
      "cell_type": "code",
      "execution_count": null,
      "metadata": {
        "ExecuteTime": {
          "end_time": "2020-04-23T10:16:05.965275Z",
          "start_time": "2020-04-23T10:16:05.312704Z"
        },
        "id": "Hx4uHj9F9GAP"
      },
      "outputs": [],
      "source": [
        "import pandas as pd\n",
        "import numpy as np"
      ]
    },
    {
      "cell_type": "markdown",
      "metadata": {
        "id": "BCQhQC2b9GAR"
      },
      "source": [
        "#### Task 1. \n",
        "Задание:\n",
        "\n",
        "1. Создайте Series из последовательности 15 значений, равномерно разбивающих отрезок [0, 20] (воспользуйтесь функцией linspace)\n",
        "2. Определите отношение элементов полученной серии к их предыдущим элементам (\\*). \n",
        "3. В результате необходимо получить среднее полученного вектора, оставив в нём только те значения, которые не более чем 1.5 (\\**). \n",
        "\n",
        "Выберите из ответов тот, который максимально близок к полученному (c точки зрения абсолютной разницы).\n",
        "\n",
        "#### Варианты ответов:\n",
        "    - 1) 1.24\n",
        "    + 2) 1.18 \n",
        "    + 3) 0.71\n",
        "    - 4) 1.13\n",
        "\n",
        "\n",
        "##### Пояснения:\n",
        "(\\*) Если было бы необходимо найти последовательность из 3-х значений,  \n",
        "равномерно разбивающих отрезок [0,1], то это были бы значения [0, 0.5, 1]. \n",
        "\n",
        "(\\**) Если был бы дан список элементов a = [1,2,3,12], отношения элементов к предыдущим будут равны [NaN, 2, 1.5, 4].  \n",
        "А на последнем этапе в таком примере останется только [1.5] и среднее значение будет также 1.5."
      ]
    },
    {
      "cell_type": "markdown",
      "source": [
        "**Простое деление оставляет ноль в первой строке, а div() поддерживает замену отсутствующих значений fill_value, поэтому ответ отличается**\n",
        "\n",
        "```\n",
        "s2/s\n",
        " 1     0.000000\n",
        " 2     0.500000\n",
        " 3     0.666667\n",
        " 4     0.750000\n",
        " 5     0.800000\n",
        " 6     0.833333\n",
        " 7     0.857143\n",
        " 8     0.875000\n",
        " 9     0.888889\n",
        " 10    0.900000\n",
        " 11    0.909091\n",
        " 12    0.916667\n",
        " 13    0.923077\n",
        " 14    0.928571\n",
        "\n",
        " s.div()\n",
        " 1          inf\n",
        " 2     2.000000\n",
        " 3     1.500000\n",
        " 4     1.333333\n",
        " 5     1.250000\n",
        " 6     1.200000\n",
        " 7     1.166667\n",
        " 8     1.142857\n",
        " 9     1.125000\n",
        " 10    1.111111\n",
        " 11    1.100000\n",
        " 12    1.090909\n",
        " 13    1.083333\n",
        " 14    1.076923\n",
        "```\n",
        "\n"
      ],
      "metadata": {
        "id": "ZvTWG0aCs4HZ"
      }
    },
    {
      "cell_type": "code",
      "execution_count": null,
      "metadata": {
        "ExecuteTime": {
          "end_time": "2020-04-23T10:13:26.017568Z",
          "start_time": "2020-04-23T10:13:26.014793Z"
        },
        "colab": {
          "base_uri": "https://localhost:8080/"
        },
        "id": "90UYxOTs9GAS",
        "outputId": "74c129e4-c268-4a52-a072-2cef53fcbb5c"
      },
      "outputs": [
        {
          "output_type": "execute_result",
          "data": {
            "text/plain": [
              "1.181677812927813"
            ]
          },
          "metadata": {},
          "execution_count": 9
        }
      ],
      "source": [
        "s = pd.Series(np.linspace(0, 20, 15))\n",
        "###s2=s.shift(periods=1)\n",
        "###s3=s2/s\n",
        "###s4 = s2[s2 <= 1.5].mean()\n",
        "s2 = s.div(s.shift(periods=1))\n",
        "s3 = s2[s2 <= 1.5].mean()\n",
        "\n",
        "s3"
      ]
    },
    {
      "cell_type": "markdown",
      "metadata": {
        "id": "bNDB_-7B9GAS"
      },
      "source": [
        "#### Task 2. \n",
        "Выберите все верные ответы касательно следующих четырех Series:\n",
        "    \n",
        "    - pd.Series('abcde'); (1) \n",
        "    - pd.Series(['abcde']); (2) \n",
        "    - pd.Series(list('abcde')); (3)\n",
        "    - pd.Series(\"abcde\"); (4)\n",
        "    \n",
        "##### Пояснения:\n",
        "(\\*)\n",
        "- функция list: в строке каждый символ - это отдельный элемент для list\n",
        "- квадратные скобки: в квадратных скобках списку передается множество элементов по отдельности через запятую\n",
        "\n",
        "\n",
        "#### Вопросы:\n",
        "    + 1) Серия (1) совпадает с серией (2), так как в каждом из случаев серия создаётся из списка строк\n",
        "    - 2) Серия (2) совпадает с серией (3), так как в каждом из случаев серия создаётся из списка символов \n",
        "    - 3) Серия (1) не совпадает с серией (4), так как в (4) используются двойные кавычки \"\" вместо одинарных '' "
      ]
    },
    {
      "cell_type": "code",
      "source": [
        "print(pd.Series('abcde'))\n",
        "print(pd.Series(['abcde'])) \n",
        "print(pd.Series(list('abcde')))\n",
        "print(pd.Series(\"abcde\"))"
      ],
      "metadata": {
        "colab": {
          "base_uri": "https://localhost:8080/"
        },
        "id": "X1elcgYFoy6X",
        "outputId": "ea1f35a2-1457-48dd-9b79-6c556cb6027c"
      },
      "execution_count": null,
      "outputs": [
        {
          "output_type": "stream",
          "name": "stdout",
          "text": [
            "0    abcde\n",
            "dtype: object\n",
            "0    abcde\n",
            "dtype: object\n",
            "0    a\n",
            "1    b\n",
            "2    c\n",
            "3    d\n",
            "4    e\n",
            "dtype: object\n",
            "0    abcde\n",
            "dtype: object\n"
          ]
        }
      ]
    },
    {
      "cell_type": "markdown",
      "metadata": {
        "id": "2jeGoUmw9GAS"
      },
      "source": [
        "#### Task 3. \n",
        "\n",
        "По клиенту получены зашумленные данные (объект s типа Series) по его транзакциям. \n",
        "\n",
        "Для заданного ниже объекта s проделайте следующее:\n",
        "1. Создайте новый Series, значения которого совпадают со значениями s, а индексы - целочисленные значения от 2 до 12, не включая 12. \n",
        "2. Выберите из s элементы с индексами 3 и 5, после чего просуммируйте их, сохранив результат (1). \n",
        "3. Выберите из s только целочисленные элементы и вычислите их дисперсию (2). (\\*)\n",
        "\n",
        "Все полученные результаты округлите до 2-х знаков после запятой.\n",
        "\n",
        "#### Выберите все верные пункты:\n",
        "    - 1) Ответ (1) - 642.52\n",
        "    - 2) Ответ (1) - 91.78\n",
        "    + 3) Ответ (1) - не может быть определён\n",
        "    + 4) Ответ (2) - 57591.19\n",
        "    - 5) Ответ (2) - 210.12\n",
        "    - 6) Ответ (2) - не может быть определён\n",
        "\n",
        "##### Пояснения:\n",
        "(\\*) Целочисленные значения - значения, имеющие тип int.\n",
        "- Дисперсия рассчитывается с помощью функции из библиотеки numpy: np.var( , ddof=0) или встроенной в python функции: .var(ddof=1)"
      ]
    },
    {
      "cell_type": "code",
      "execution_count": null,
      "metadata": {
        "ExecuteTime": {
          "end_time": "2020-04-23T10:17:18.795695Z",
          "start_time": "2020-04-23T10:17:18.791449Z"
        },
        "id": "Im_KVAcd9GAT",
        "colab": {
          "base_uri": "https://localhost:8080/"
        },
        "outputId": "b17f1f2a-f248-4aa2-8a0d-109e8aab2efe"
      },
      "outputs": [
        {
          "output_type": "execute_result",
          "data": {
            "text/plain": [
              "57591.1875"
            ]
          },
          "metadata": {},
          "execution_count": 64
        }
      ],
      "source": [
        "from pandas.api.types import is_integer_dtype\n",
        "from pandas.core.arrays.datetimelike import Dtype\n",
        "s = pd.Series(data=['1', 2, 3.1, 'hi!', 5, -512, 12.42, 'sber', 10.10, 98], \n",
        "              index=range(6, 26, 2))\n",
        "s2 = pd.Series(data=['1', 2, 3.1, 'hi!', 5, -512, 12.42, 'sber', 10.10, 98], \n",
        "              index=range(2, 12, 1))\n",
        "### answer1 = s[3] + s[5]\n",
        "s3 = pd.Series([i for i in s if isinstance(i, int)])\n",
        "answer2 = np.var(s3, ddof=0)\n",
        "answer2"
      ]
    },
    {
      "cell_type": "markdown",
      "metadata": {
        "id": "hUj66vCv9GAT"
      },
      "source": [
        "#### Task 4. \n",
        "1. Сгенерируйте Series из 100 значений нормально распределённой СВ (np.random.normal с дефолтными параметрами - нулевым средним и единичной дисперсией).\n",
        "2. Возведите каждое значение серии в 3 степень, а значения индекса увеличьте в 3 раза. \n",
        "3. Ответьте на следующие вопросы через запятую (без пробелов) (\\*)\n",
        "    - 1) Выведите сумму элементов, строго меньших 2.6, имеющих нечётные значения индекса. \n",
        "    - 2) Выведите количество значений серии меньше нуля.\n",
        "-15.150748101821666,51\n",
        "#### Пояснения:\n",
        "(\\*) Если получились ответы 3, 4.32, то в форму необходимо внести их в виде \"3,4.32\". То есть вещественные числа необходимо разделять точками. Не забудьте про фиксированный seed (его менять не нужно)!\n",
        " - Определенное значение seed нужно, чтобы ответы у всех выполняющих\n",
        "это задание были одинаковые и их можно было проверить (так как генерируются\n",
        "одинаковые series).\n",
        " - Следует внимательнее использовать [ ] для выбора данных по нескольким условиям:\n",
        "либо выбирать данные последовательно, либо сразу по нескольким условиям,\n",
        "но через оператор &. Отличие оператора and от оператора &: and - выводит\n",
        "последнее проверенное значение, & - выводит пересечение значений.\n",
        "Пример: s[ _  &  _ ].sum() "
      ]
    },
    {
      "cell_type": "code",
      "execution_count": null,
      "metadata": {
        "ExecuteTime": {
          "end_time": "2020-04-23T10:18:35.713300Z",
          "start_time": "2020-04-23T10:18:35.710616Z"
        },
        "id": "edPLOJ-A9GAU",
        "colab": {
          "base_uri": "https://localhost:8080/"
        },
        "outputId": "51bb53b8-a3bc-4735-9e86-be33b6493a4e"
      },
      "outputs": [
        {
          "output_type": "stream",
          "name": "stdout",
          "text": [
            "-15.150748101821666 51\n"
          ]
        }
      ],
      "source": [
        "np.random.seed(242)\n",
        "s = pd.Series(np.random.normal(loc=0.0, scale=1.0, size=100)) ### 1\n",
        "s2 = s**3                                                     ### \n",
        "s2.index = s2.index*3                                         ### 2\n",
        "s3 = s2[s2<2.6] \n",
        "s4 = s3[s3.index%2>0]\n",
        "answer1 = s4.sum()                                            ### 3.1\n",
        "answer2 = s2[s2<0].count()                                    ### 3.2\n",
        "print(answer1, answer2)"
      ]
    },
    {
      "cell_type": "markdown",
      "metadata": {
        "id": "lW-rfGMp9GAU"
      },
      "source": [
        "### Информация для последующих заданий\n",
        "- Для всех последующих заданий будем использовать обезличенные транзакционные банковские данные. Для этого считайте в переменные tr_mcc_codes, tr_types, transactions и gender_train из одноимённых таблиц из папки data. Для таблицы transactions используйте только первые n=1000000 строк. Обратите внимание на разделители внутри каждого из файлов - они могут различаться!"
      ]
    },
    {
      "cell_type": "code",
      "execution_count": null,
      "metadata": {
        "ExecuteTime": {
          "end_time": "2020-04-23T10:19:13.080203Z",
          "start_time": "2020-04-23T10:19:13.077711Z"
        },
        "id": "Ut-yA5R99GAU",
        "colab": {
          "base_uri": "https://localhost:8080/"
        },
        "outputId": "069acfd6-7a68-4fbf-c527-9f7f56bfb7db"
      },
      "outputs": [
        {
          "output_type": "stream",
          "name": "stdout",
          "text": [
            "The original database shape: (155, 2) \n",
            "    tr_type                                     tr_description\n",
            "0     3200  Плата за предоставление услуг посредством моби...\n",
            "1     3210  Плата за предоставление отчета по счету карты ... \n",
            "\n",
            "The original database shape: (8400, 2) \n",
            "    customer_id  gender\n",
            "0     10928546       1\n",
            "1     69348468       1 \n",
            "\n",
            "The original database shape: (184, 2) \n",
            "    mcc_code                                    mcc_description\n",
            "0       742                                Ветеринарные услуги\n",
            "1      1711  Генеральные подрядчики по вентиляции, теплосна... \n",
            "\n",
            "The original database shape: (1000000, 6) \n",
            "    customer_id tr_datetime  mcc_code  tr_type    amount term_id\n",
            "0     39026145  0 10:23:26      4814     1030  -2245.92     NaN\n",
            "1     39026145  1 10:19:29      6011     7010  56147.89     NaN \n",
            "\n"
          ]
        }
      ],
      "source": [
        "import numpy as np \n",
        "import pandas as pd \n",
        "import matplotlib.pyplot as plt\n",
        "\n",
        "tr_types = pd.read_csv('/content/sample_data/tr_types.csv', sep=\";\")\n",
        "gender_train = pd.read_csv('/content/sample_data/gender_train.csv', sep=\",\")\n",
        "tr_mcc_codes = pd.read_csv('/content/sample_data/tr_mcc_codes.csv', sep=\";\")\n",
        "transactions = pd.read_csv('/content/sample_data/transactions.csv', sep=\",\", nrows=1000000)\n",
        "\n",
        "print('The original database shape:', tr_types.shape, \"\\n\", tr_types.head(2), \"\\n\") \n",
        "print('The original database shape:', gender_train.shape, \"\\n\", gender_train.head(2), \"\\n\") \n",
        "print('The original database shape:', tr_mcc_codes.shape, \"\\n\", tr_mcc_codes.head(2), \"\\n\") \n",
        "print('The original database shape:', transactions.shape, \"\\n\", transactions.head(2), \"\\n\") "
      ]
    },
    {
      "cell_type": "markdown",
      "metadata": {
        "id": "iLOjIutU9GAV"
      },
      "source": [
        "## Описание данных\n",
        "### Таблица ```transactions.csv```\n",
        "##### Описание\n",
        "Таблица содержит историю транзакций клиентов банка за один год и три месяца.\n",
        "\n",
        "##### Формат данных\n",
        "\n",
        "```\n",
        "customer_id,tr_datetime,mcc_code,tr_type,amount,term_id\n",
        "111111,15 01:40:52,1111,1000,-5224,111111\n",
        "111112,15 15:18:32,3333,2000,-100,11122233\n",
        "...\n",
        "```\n",
        "##### Описание полей\n",
        "\n",
        " - ```customer_id``` — идентификатор клиента;\n",
        " - ```tr_datetime``` — день и время совершения транзакции (дни нумеруются с начала данных);\n",
        " - ```mcc_code``` — mcc-код транзакции;\n",
        " - ```tr_type``` — тип транзакции;\n",
        " - ```amount``` — сумма транзакции в условных единицах со знаком; ```+``` — начисление средств клиенту (приходная транзакция), ```-``` — списание средств (расходная транзакция);\n",
        " - ```term_id``` — идентификатор терминала;\n",
        "\n",
        "\n",
        "### Таблица ```gender_train.csv```\n",
        "\n",
        "##### Описание\n",
        "Данная таблица содержит информацию по полу для части клиентов, для которых он известен. Для остальных клиентов пол неизвестен.\n",
        "\n",
        "##### Формат данных\n",
        "```\n",
        "customer_id,gender\n",
        "111111,0\n",
        "111112,1\n",
        "...\n",
        "```\n",
        "\n",
        "##### Описание полей\n",
        " - ```customer_id``` — идентификатор клиента;\n",
        " - ```gender``` — пол клиента;\n",
        "\n",
        "### Таблица ```tr_mcc_codes.csv```\n",
        "\n",
        "##### Описание\n",
        "Данная таблица содержит описание mcc-кодов транзакций.\n",
        "\n",
        "##### Формат данных\n",
        "```\n",
        "mcc_code;mcc_description\n",
        "1000;словесное описание mcc-кода 1000\n",
        "2000;словесное описание mcc-кода 2000\n",
        "...\n",
        "```\n",
        "\n",
        "##### Описание полей\n",
        " - ```mcc_code``` – mcc-код транзакции;\n",
        " - ```mcc_description``` — описание mcc-кода транзакции.\n",
        "\n",
        "### Таблица ```tr_types.csv```\n",
        "\n",
        "##### Описание\n",
        "Данная таблица содержит описание типов транзакций.\n",
        "\n",
        "##### Формат данных\n",
        "```\n",
        "tr_type;tr_description\n",
        "1000;словесное описание типа транзакции 1000\n",
        "2000;словесное описание типа транзакции 2000\n",
        "...\n",
        "```\n",
        "\n",
        "##### Описание полей\n",
        " - ```tr_type``` – тип транзакции;\n",
        " - ```tr_description``` — описание типа транзакции;"
      ]
    },
    {
      "cell_type": "markdown",
      "metadata": {
        "id": "XoILNSFZ9GAV"
      },
      "source": [
        "#### Task 5.\n",
        "1. В tr_types выберите произвольные 100 строк с помощью метода sample (указав при этом random_seed равный 242)\n",
        "2. В полученной на предыдущем этапе подвыборке найдите долю наблюдений (стобец tr_description), в которой содержится подстрока 'плата' (в любом регистре). (\\*)\n",
        "\n",
        "Выведите ответ в виде вещественного числа, округлённого до двух знаков после запятой, отделив дробную часть точкой в формате \"123.45\"\n",
        "\n",
        "##### Пояснения:\n",
        "(\\*) Строки \"ПлатА за аренду\", \"ПлатАза аренду\", \"ПЛАТА\" удовлетворяют условию, так как будучи переведёнными в нижний регистр содержат подстроку \"плата\"."
      ]
    },
    {
      "cell_type": "code",
      "execution_count": null,
      "metadata": {
        "ExecuteTime": {
          "end_time": "2020-04-23T10:19:45.872766Z",
          "start_time": "2020-04-23T10:19:45.870317Z"
        },
        "scrolled": true,
        "id": "FDgYICsG9GAW",
        "colab": {
          "base_uri": "https://localhost:8080/"
        },
        "outputId": "612f55d2-60df-4d9c-acab-3a7559895386"
      },
      "outputs": [
        {
          "output_type": "stream",
          "name": "stdout",
          "text": [
            "3.85\n"
          ]
        }
      ],
      "source": [
        "one_hundred_tr_types = tr_types.sample(n=100, random_state=242)\n",
        "count_first = one_hundred_tr_types.count()[0]\n",
        "string = 'плата'\n",
        "new_tr_types = one_hundred_tr_types[one_hundred_tr_types['tr_description'].str.lower().str.contains(string)]\n",
        "count_second = new_tr_types.count()[0]\n",
        "### print(count_first, count_second) ### 100, 26 \n",
        "\n",
        "### Что значит найти долю? Что на что делить?)\n",
        "answer = (count_first/count_second).round(2)\n",
        "print(answer)"
      ]
    },
    {
      "cell_type": "markdown",
      "metadata": {
        "id": "LLnVGxpf9GAW"
      },
      "source": [
        "#### Task 6. \n",
        "1. Для поля tr_type датафрейма transactions посчитайте частоту встречаемости всех типов транзакций tr_type в transactions.\n",
        "2. Из перечисленных вариантов выберите те, которые попали в топ-5 транзакций по частоте встречаемости.\n",
        "\n",
        "#### Выберите все верные пункты:\n",
        "    + 1) Выдача наличных в АТМ Сбербанк России\n",
        "    - 2) Комиссия за обслуживание ссудного счета\n",
        "    - 3) Списание по требованию\t\n",
        "    + 4) Оплата услуги. Банкоматы СБ РФ\n",
        "    - 5) Погашение кредита (в пределах одного филиала)\n",
        "    + 6) Покупка. POS ТУ СБ РФ"
      ]
    },
    {
      "cell_type": "code",
      "execution_count": null,
      "metadata": {
        "ExecuteTime": {
          "end_time": "2020-04-23T10:20:31.273965Z",
          "start_time": "2020-04-23T10:20:31.271483Z"
        },
        "id": "lFJBouvf9GAW",
        "colab": {
          "base_uri": "https://localhost:8080/"
        },
        "outputId": "b714c84a-a0d2-4097-e1e5-0febf7e0661a"
      },
      "outputs": [
        {
          "output_type": "stream",
          "name": "stdout",
          "text": [
            "1010    231117\n",
            "2010    151166\n",
            "7070    149006\n",
            "1110    137658\n",
            "1030    118975\n",
            "Name: tr_type, dtype: int64\n",
            "    tr_type         tr_description\n",
            "98     1010  Покупка. POS ТУ СБ РФ\n",
            "     tr_type                         tr_description\n",
            "106     2010  Выдача наличных в АТМ Сбербанк России\n",
            "    tr_type                                     tr_description\n",
            "59     7070  Перевод на карту (с карты) через Мобильный бан...\n",
            "     tr_type          tr_description\n",
            "101     1110  Покупка. POS ТУ Россия\n",
            "    tr_type                  tr_description\n",
            "99     1030  Оплата услуги. Банкоматы СБ РФ\n"
          ]
        }
      ],
      "source": [
        "new_frame_transactions = transactions['tr_type'].value_counts().head(5)\n",
        "print(new_frame_transactions)\n",
        "\n",
        "print(tr_types[tr_types['tr_type']==1010])\n",
        "print(tr_types[tr_types['tr_type']==2010])\n",
        "print(tr_types[tr_types['tr_type']==7070])\n",
        "print(tr_types[tr_types['tr_type']==1110])\n",
        "print(tr_types[tr_types['tr_type']==1030])"
      ]
    },
    {
      "cell_type": "markdown",
      "metadata": {
        "id": "jsDEffX19GAW"
      },
      "source": [
        "#### Task 7.\n",
        "1. В датафрейме transactions задайте столбец  customer_id в качестве индекса.\n",
        "2. Выделите клиента с максимальной суммой транзакции (то есть с максимальным приходом на карту). (\\*)\n",
        "3. Найдите у него наиболее часто встречающийся модуль суммы приходов/расходов. (\\**)\n",
        "\n",
        "\n",
        "#### Выберите все верные пункты:\n",
        "    - 1) 1122957.89\n",
        "    - 2) 15721.41\n",
        "    + 3) 22459.16\n",
        "    - 4) 13475494.63\n",
        "    - 5) 107407.78\n",
        "    - 6) 65019.26\n",
        "\n",
        "##### Пояснения:\n",
        "(\\*) Если у клиента были транзакции [-10000, 10, 0, -10], то максимумом будет являться значение 10. <br>\n",
        "(\\**) Если у клиента были транзакции [-10000, 10, 0, -10], то наиболее встречающийся модуль суммы транзакций равен 10, и встретился он 2 раза."
      ]
    },
    {
      "cell_type": "code",
      "execution_count": null,
      "metadata": {
        "ExecuteTime": {
          "end_time": "2020-04-23T10:20:53.265495Z",
          "start_time": "2020-04-23T10:20:53.263208Z"
        },
        "scrolled": true,
        "id": "m9SFvBZw9GAX",
        "colab": {
          "base_uri": "https://localhost:8080/"
        },
        "outputId": "57b7253f-1ea6-477e-e32a-50d8f60bcfcf"
      },
      "outputs": [
        {
          "output_type": "stream",
          "name": "stdout",
          "text": [
            "              tr_datetime  mcc_code  tr_type        amount term_id\n",
            "customer_id                                                       \n",
            "26782922     151 11:35:44      6010     7070  1.459845e+08     NaN \n",
            "\n",
            "22459.16    25\n",
            "Name: amount, dtype: int64\n"
          ]
        }
      ],
      "source": [
        "second_frame_transactions = transactions.set_index('customer_id')\n",
        "print(second_frame_transactions[second_frame_transactions['amount']==second_frame_transactions['amount'].max()], '\\n')\n",
        "### print(transactions[(transactions['customer_id'] == 26782922)]['amount'].abs().value_counts().head(1))\n",
        "print(second_frame_transactions.loc[[26782922]]['amount'].abs().value_counts().head(1))"
      ]
    },
    {
      "cell_type": "markdown",
      "metadata": {
        "id": "-_1auLTK9GAX"
      },
      "source": [
        "#### Task 8.\n",
        "1. Найдите максимальную разницу между медианами суммы транзакций, посчитанными при заданных ниже условиях по полю amount из таблицы transactions (\\*):\n",
        "    - Медиана суммы транзакций\n",
        "    - Медиана суммы транзакций по тем строкам, которые ни в одном из своих столбцов не содержат пустые значения\n",
        "    - Медиана суммы транзакций по строкам, отсортированным по полю amount в порядке возрастания, и из которых удалены дублирующиеся по столбцам [mcc_code, tr_type] строки, причём при удалении соответстующих дублей остаются только последние из дублирующихся строк (keep='last')\n",
        "\n",
        "  Ответ: 4693.96\n",
        "\n",
        "Выведите ответ в виде вещественного числа, округлённого до двух знаков после запятой, отделив дробную часть точкой в формате \"123.45\"\n",
        "\n",
        "##### Пояснения:\n",
        "(\\*) Для вычисления максимальной разницы между значениями списка можно использовать функцию np.ptp  \n",
        "(\\**) Если в результате получились значения [1,3,5], то макимальная разница между ними 4 == 5-1."
      ]
    },
    {
      "cell_type": "code",
      "execution_count": null,
      "metadata": {
        "ExecuteTime": {
          "end_time": "2020-04-23T10:21:36.645933Z",
          "start_time": "2020-04-23T10:21:36.643612Z"
        },
        "scrolled": true,
        "id": "Zqg7fck_9GAX",
        "colab": {
          "base_uri": "https://localhost:8080/"
        },
        "outputId": "942c8d8b-b21a-4646-8919-0a4d83d6d15d"
      },
      "outputs": [
        {
          "output_type": "stream",
          "name": "stdout",
          "text": [
            "4693.96\n"
          ]
        }
      ],
      "source": [
        "transactions = pd.read_csv('/content/sample_data/transactions.csv', sep=\",\", nrows=1000000)\n",
        "first_median = transactions['amount'].median()\n",
        "second_median = transactions.dropna(axis=0)['amount'].median()\n",
        "third_median = transactions.sort_values(by=['amount']).drop_duplicates(subset=['mcc_code', 'tr_type'], keep='last')['amount'].median()\n",
        "### print(first_median, second_median, third_median)\n",
        "answer = np.ptp([first_median, second_median, third_median]).round(2)\n",
        "print(answer)"
      ]
    },
    {
      "cell_type": "markdown",
      "metadata": {
        "id": "nEBuL7i6xR5j"
      },
      "source": [
        "# <center> Homework 2 (Topics 5-7: Groupby, Merge, Visualization)"
      ]
    },
    {
      "cell_type": "code",
      "execution_count": null,
      "metadata": {
        "ExecuteTime": {
          "end_time": "2020-04-23T10:26:06.303166Z",
          "start_time": "2020-04-23T10:26:05.458848Z"
        },
        "id": "gwGPyHyyxR5k"
      },
      "outputs": [],
      "source": [
        "import pandas as pd\n",
        "import numpy as np\n",
        "\n",
        "import matplotlib.pyplot as plt\n",
        "import seaborn as sns\n",
        "%matplotlib inline"
      ]
    },
    {
      "cell_type": "markdown",
      "metadata": {
        "id": "V9GXMW9KxR5m"
      },
      "source": [
        "Ещё раз (как и в задании 1) считайте в переменные tr_mcc_codes, tr_types, transactions и customers_gender_train. В transactions опять считайте только первые 1000000 строк."
      ]
    },
    {
      "cell_type": "code",
      "execution_count": null,
      "metadata": {
        "ExecuteTime": {
          "end_time": "2020-04-23T10:26:18.234475Z",
          "start_time": "2020-04-23T10:26:18.232003Z"
        },
        "colab": {
          "base_uri": "https://localhost:8080/"
        },
        "id": "y9GhV_dnxR5m",
        "outputId": "fddb4470-7662-4e29-c623-f501743ab8e5"
      },
      "outputs": [
        {
          "output_type": "stream",
          "name": "stdout",
          "text": [
            "The database shape: (155, 2) \n",
            "    tr_type                                     tr_description\n",
            "0     3200  Плата за предоставление услуг посредством моби...\n",
            "1     3210  Плата за предоставление отчета по счету карты ... \n",
            "\n",
            "The database shape: (8400, 2) \n",
            "    customer_id  gender\n",
            "0     10928546       1\n",
            "1     69348468       1 \n",
            "\n",
            "The database shape: (184, 2) \n",
            "    mcc_code                                    mcc_description\n",
            "0       742                                Ветеринарные услуги\n",
            "1      1711  Генеральные подрядчики по вентиляции, теплосна... \n",
            "\n",
            "The database shape: (1000000, 6) \n",
            "    customer_id tr_datetime  mcc_code  tr_type    amount term_id\n",
            "0     39026145  0 10:23:26      4814     1030  -2245.92     NaN\n",
            "1     39026145  1 10:19:29      6011     7010  56147.89     NaN \n",
            "\n"
          ]
        }
      ],
      "source": [
        "tr_types = pd.read_csv('/content/sample_data/tr_types.csv', sep=\";\")\n",
        "customers_gender_train = pd.read_csv('/content/sample_data/gender_train.csv', sep=\",\")\n",
        "tr_mcc_codes = pd.read_csv('/content/sample_data/tr_mcc_codes.csv', sep=\";\")\n",
        "transactions = pd.read_csv('/content/sample_data/transactions.csv', sep=\",\", nrows=1000000)\n",
        "\n",
        "print('The database shape:', tr_types.shape, \"\\n\", tr_types.head(2), \"\\n\") \n",
        "print('The database shape:', customers_gender_train.shape, \"\\n\", customers_gender_train.head(2), \"\\n\") \n",
        "print('The database shape:', tr_mcc_codes.shape, \"\\n\", tr_mcc_codes.head(2), \"\\n\") \n",
        "print('The database shape:', transactions.shape, \"\\n\", transactions.head(2), \"\\n\") "
      ]
    },
    {
      "cell_type": "markdown",
      "metadata": {
        "id": "9DYFPl-axR5n"
      },
      "source": [
        "#### Task 0.\n",
        "Соедините transactions с всеми остальными таблицами (tr_mcc_codes, tr_types, gender_train). Причём с customers_gender_train необходимо смёрджиться с помощью left join, а с оставшимися датафреймами - через inner.\n",
        "После получения результата таблицы gender_train, tr_types, tr_mcc_codes можно удалить. В результате соединения датафреймов должно получиться 999584 строки."
      ]
    },
    {
      "cell_type": "code",
      "execution_count": null,
      "metadata": {
        "ExecuteTime": {
          "end_time": "2020-04-23T10:26:27.618399Z",
          "start_time": "2020-04-23T10:26:27.615930Z"
        },
        "colab": {
          "base_uri": "https://localhost:8080/"
        },
        "id": "yIkTGf9ixR5n",
        "outputId": "11138edb-a26c-4184-ab15-af607ffb1c20"
      },
      "outputs": [
        {
          "output_type": "stream",
          "name": "stdout",
          "text": [
            "The database shape: (999584, 9) \n",
            "    customer_id tr_datetime  mcc_code  tr_type   amount term_id  gender  \\\n",
            "0     39026145  0 10:23:26      4814     1030 -2245.92     NaN     1.0   \n",
            "9     39026145  6 07:08:31      4814     1030 -5614.79     NaN     1.0   \n",
            "\n",
            "                                     mcc_description  \\\n",
            "0  Звонки с использованием телефонов, считывающих...   \n",
            "9  Звонки с использованием телефонов, считывающих...   \n",
            "\n",
            "                   tr_description  \n",
            "0  Оплата услуги. Банкоматы СБ РФ  \n",
            "9  Оплата услуги. Банкоматы СБ РФ   \n",
            "\n"
          ]
        }
      ],
      "source": [
        "new_transactions = transactions.join(customers_gender_train.set_index('customer_id'), on='customer_id')\n",
        "new_transactions = new_transactions.join(tr_mcc_codes.set_index('mcc_code'), on='mcc_code', how='inner')\n",
        "new_transactions = new_transactions.join(tr_types.set_index('tr_type'), on='tr_type', how='inner')\n",
        "print('The database shape:', new_transactions.shape, \"\\n\", new_transactions.head(2), \"\\n\") "
      ]
    },
    {
      "cell_type": "markdown",
      "metadata": {
        "id": "llrhDQsCxR5o"
      },
      "source": [
        "#### Task 1.\n",
        "1. Определите модуль разницы между средними тратами женщин и мужчин (трата - отрицательное значение amount). (*)\n",
        "\n",
        "Выведите ответ в виде вещественного числа, округлённого до двух знаков после запятой, отделив дробную часть точкой в формате \"123.45\"\n",
        "\n",
        "##### Пояснения:\n",
        "(\\*) Если в результате для мужчин получились значения [-1,-3,-5], а для женщин [-1,-2,-3],  \n",
        "то модуль разницы между средними арифметическими -3 и -2 будет равен 1.\n",
        "\n",
        "(\\**) Обратите внимание, что для вычисления модуля разности точных знаний о том,  \n",
        "какой класc относится к мужчинам, а какой - к женщинам, пока не требуется.\n",
        "\n",
        "(\\***) Округление не нужно производить отдельно по средним тратам женщин и мужчин, а только в самом конце, когда получите значение модуля разницы трат."
      ]
    },
    {
      "cell_type": "code",
      "execution_count": null,
      "metadata": {
        "ExecuteTime": {
          "end_time": "2020-04-23T10:35:27.760136Z",
          "start_time": "2020-04-23T10:35:27.757599Z"
        },
        "colab": {
          "base_uri": "https://localhost:8080/"
        },
        "id": "K6cHBTf3xR5p",
        "outputId": "73c2be11-b951-4270-923b-5fee4c983946"
      },
      "outputs": [
        {
          "output_type": "stream",
          "name": "stdout",
          "text": [
            "amount    32718.05\n",
            "dtype: float64\n"
          ]
        }
      ],
      "source": [
        "df_fem = new_transactions.loc[new_transactions['amount']<0]\n",
        "df_fem = df_fem.loc[df_fem['gender']==0, ['amount']].mean()\n",
        "df_m = new_transactions.loc[new_transactions['amount']<0]\n",
        "df_m = df_m.loc[df_m['gender']==1, ['amount']].mean()\n",
        "###  print(df_fem, df_m, \"\\n\")        ###  -53376.917122, -86094.972042\n",
        "answer_first = (df_m - df_fem).abs().round(2) \n",
        "print(answer_first)\n"
      ]
    },
    {
      "cell_type": "markdown",
      "metadata": {
        "id": "phIshN5-xR5p"
      },
      "source": [
        "#### Task 2:\n",
        "1. Создайте новый столбец - mcc_code+tr_type, сконкатенировав значения из соответствующих столбцов. (\\*)\n",
        "2. Оставьте только наблюдения с отрицательным значением amount. Посчитайте дисперсию по категориям получившегося столбца mcc_code+tr_type, в которых количество наблюдений >= 10. \n",
        "3. Определите отношение максимальной дисперсии к минимальной.\n",
        "\n",
        "Выведите ответ в виде вещественного числа, округлённого до ближайшего целого в формате \"123456\" без дробной части.\n",
        "\n",
        "##### Пояснения:\n",
        "(\\*) Для конкатенации значений в столбцах можно использовать метод .astype(str) для серии и складывать соответствующие серии. Либо же применять apply к строкам датафрейма, прописывая логику преобразования и конкатенации значений внутри.\n",
        "\n",
        "(\\**) Для одновременного подсчета количества наблюдений и дисперсии по категориям можно воспользоваться функцией .agg()"
      ]
    },
    {
      "cell_type": "code",
      "execution_count": null,
      "metadata": {
        "ExecuteTime": {
          "end_time": "2020-04-23T10:35:39.478241Z",
          "start_time": "2020-04-23T10:35:39.475846Z"
        },
        "colab": {
          "base_uri": "https://localhost:8080/"
        },
        "id": "g7xkwxOFxR5q",
        "outputId": "1299274d-7424-48f5-e797-6a15feff5f72"
      },
      "outputs": [
        {
          "output_type": "stream",
          "name": "stdout",
          "text": [
            "9170599\n"
          ]
        }
      ],
      "source": [
        "new2_transactions = new_transactions\n",
        "new2_transactions['mcc_code+tr_type'] = new_transactions['mcc_code'].astype(str) + new_transactions['tr_type'].astype(str)\n",
        "new2_transactions = new2_transactions.loc[new2_transactions['amount']<0]\n",
        "new2_transactions = new2_transactions.groupby('mcc_code+tr_type')['amount'].agg(['count', 'var'])\n",
        "new2_transactions = new2_transactions.loc[new2_transactions['count']>=10]\n",
        "answer_second = round(new2_transactions['var'].max() / new2_transactions['var'].min())\n",
        "print(answer_second)"
      ]
    },
    {
      "cell_type": "markdown",
      "metadata": {
        "id": "4VglqdIjxR5q"
      },
      "source": [
        "#### Task 3:\n",
        "1. По всем типам транзакций рассчитайте максимальную сумму прихода на карту (из строго положительных сумм по столбцу amount) отдельно для мужчин и женщин (назовите ее \"max_income\"). Оставьте по 5 транзакций для мужчин и для женщин, наименьших среди всех транзакций по полученным значениям \"max_income\". (\\*)\n",
        "2. Выделите среди них те, которые встречаются одновременно и у мужчин, и у женщин:\n",
        "    - 1) Покупка. POS ТУ СБ РФ\t\n",
        "    - 2) Списание после проведения претензионной работы\t\n",
        "    - 3) Плата за получение наличных. Россия\t\n",
        "    - 4) Перевод на карту/ с карты через АТМ (со взиманием комиссии с отправителя) по счету в овердрафте\t\n",
        "    + +5) Плата за получение наличных в АТМ. Россия\t \n",
        "    - 6) Наличные. Зарубеж. банк\t\n",
        "    - 7) Возврат покупки. POS ТУ Россия\n",
        "\n",
        "##### Пояснения:\n",
        "(\\*) Если максимальные суммы приходов по каким-то типам были равны [1,2,3,4,5,6,7,8], то 5 минимальных из них: [1,2,3,4,5]"
      ]
    },
    {
      "cell_type": "code",
      "execution_count": null,
      "metadata": {
        "ExecuteTime": {
          "end_time": "2020-04-23T10:36:36.494729Z",
          "start_time": "2020-04-23T10:36:36.492051Z"
        },
        "scrolled": false,
        "id": "2H4z4CAMxR5r",
        "colab": {
          "base_uri": "https://localhost:8080/"
        },
        "outputId": "9a8984f0-87a8-4302-97e8-4b00a2ed8745"
      },
      "outputs": [
        {
          "output_type": "stream",
          "name": "stdout",
          "text": [
            "        tr_type   amount  gender  \\\n",
            "918819     4051  1122.96     0.0   \n",
            "250039     4110  2245.92     0.0   \n",
            "178745     4210  2245.92     0.0   \n",
            "510760     2370  2335.75     0.0   \n",
            "99487      4100  5041.86     0.0   \n",
            "\n",
            "                                           tr_description  \n",
            "918819  Плата за перевод на карту (с карты) через АТМ ...  \n",
            "250039          Плата за получение наличных в АТМ. Россия  \n",
            "178745        Плата за получение наличных в АТМ. Зарубеж.  \n",
            "510760  Списание с карты на карту по операции <перевод...  \n",
            "99487                 Плата за получение наличных. Россия   \n",
            "\n",
            "         tr_type    amount  gender  \\\n",
            "320165     4110   2245.92     1.0   \n",
            "769476     2020   2245.92     1.0   \n",
            "351582     1010  28803.87     1.0   \n",
            "676473     8100  64682.37     1.0   \n",
            "56608      6000  79280.83     1.0   \n",
            "\n",
            "                                        tr_description  \n",
            "320165       Плата за получение наличных в АТМ. Россия  \n",
            "769476             Выдача наличных через POS Сбербанка  \n",
            "351582                           Покупка. POS ТУ СБ РФ  \n",
            "676473  Списание после проведения претензионной работы  \n",
            "56608                       Возврат  покупки. ТУ СБ РФ   \n",
            "\n"
          ]
        }
      ],
      "source": [
        "new3_transactions = new_transactions\n",
        "\n",
        "max_income_fem = new3_transactions.loc[new3_transactions['gender']==0]\n",
        "max_income_fem = max_income_fem.loc[max_income_fem['amount']>0]\n",
        "max_income_fem = max_income_fem.sort_values(by=['amount'], ascending=False)\n",
        "max_income_fem = max_income_fem.drop_duplicates(subset=['tr_type'], keep='first')\n",
        "max_income_fem = max_income_fem.sort_values(by=['amount'])\n",
        "\n",
        "max_income_m = new3_transactions[new3_transactions['gender']==1]\n",
        "max_income_m = max_income_m.loc[max_income_m['amount']>0]\n",
        "max_income_m = max_income_m.sort_values(by=['amount'], ascending=False)\n",
        "max_income_m = max_income_m.drop_duplicates(subset=['tr_type'], keep='first')\n",
        "max_income_m = max_income_m.sort_values(by=['amount'])\n",
        "\n",
        "max_income_fem = max_income_fem.drop(columns=['customer_id','tr_datetime','mcc_code','term_id','mcc_description','mcc_code+tr_type'], axis=1)\n",
        "max_income_m = max_income_m.drop(columns=['customer_id','tr_datetime','mcc_code','term_id','mcc_description','mcc_code+tr_type'], axis=1)\n",
        "print(max_income_fem.head(5), \"\\n\\n\", max_income_m.head(5), \"\\n\")"
      ]
    },
    {
      "cell_type": "markdown",
      "metadata": {
        "id": "AGHVITD2xR5r"
      },
      "source": [
        "#### Task 4:\n",
        "1. Выделите из поля tr_datetime относительный день tr_day (первое число до точного времени). (\\*)\n",
        "2. Отфильтруйте строки таким образом, чтобы оставить только те транзакции, у которых в соответствующий относительный день tr_day количество уникальных MCC кодов при транзакциях было больше 75 (можно воспользоваться функцией nunique())\n",
        "3. Сгруппируйте полученный отфильтрованный датафрейм по MCC коду и полу, после чего, пронализировав результат, выберите верные варианты ответов ниже (\\**): \n",
        "    - +1) gender == 0 - женщины, gender == 1 - мужчины\n",
        "    - 2) gender == 1 - женщины, gender == 0 - мужчины\n",
        "    - +3) Абсолютное значение медианы с типом \"Флористика\" (расходов/приходов) у мужчин выше той же медианы у женщин\n",
        "    - 4) Абсолютное значение медианы женских трат (расходов/приходов) на ценные бумаги выше мужских\n",
        "    - +5) Абсолютное значение медианы женских трат (расходов/приходов) в категории \"Бары, коктейль-бары, дискотеки, ночные клубы и таверны — места продажи алкогольных напитков\" ниже мужских\n",
        "    \n",
        "##### Пояснения:\n",
        "(\\*) Для того, чтобы выделить всё, что стоит до первого пробела, можо использовать строковые методы для датафрейма - .str.split(), например. Либо же реализовывать логику выделения подстроки с помощью метода apply. <br>\n",
        "(\\**) Понять, какой класс к какому типу транзакций (мужские/женские) относится можно, если поизучать типичные для мужчин/женщин категории и сравнить средние/медианы расходов и/или приходов в них."
      ]
    },
    {
      "cell_type": "code",
      "execution_count": null,
      "metadata": {
        "ExecuteTime": {
          "end_time": "2020-04-23T10:38:02.450820Z",
          "start_time": "2020-04-23T10:38:02.448354Z"
        },
        "id": "NgQICFEYxR5s",
        "colab": {
          "base_uri": "https://localhost:8080/"
        },
        "outputId": "87d48788-79f4-456a-b2ab-2d254aa551f2"
      },
      "outputs": [
        {
          "output_type": "stream",
          "name": "stdout",
          "text": [
            "       tr_day   tr_time  customer_id   tr_datetime  mcc_code  tr_type  \\\n",
            "142549     70  13:31:50     91472082   70 13:31:50       742     1110   \n",
            "142591    139  11:28:54     91472082  139 11:28:54       742     1110   \n",
            "153975      7  09:18:56     71310841    7 09:18:56       742     1110   \n",
            "154173    226  00:00:00     71310841  226 00:00:00       742     1110   \n",
            "322798    362  00:00:00     20694145  362 00:00:00       742     1110   \n",
            "\n",
            "           amount   term_id  gender      mcc_description  \\\n",
            "142549  -23986.38       NaN     0.0  Ветеринарные услуги   \n",
            "142591  -33598.90       NaN     0.0  Ветеринарные услуги   \n",
            "153975  -10780.40       NaN     0.0  Ветеринарные услуги   \n",
            "154173 -115664.66  77024569     0.0  Ветеринарные услуги   \n",
            "322798   -7186.93  77095209     0.0  Ветеринарные услуги   \n",
            "\n",
            "                tr_description mcc_code+tr_type  \n",
            "142549  Покупка. POS ТУ Россия          7421110  \n",
            "142591  Покупка. POS ТУ Россия          7421110  \n",
            "153975  Покупка. POS ТУ Россия          7421110  \n",
            "154173  Покупка. POS ТУ Россия          7421110  \n",
            "322798  Покупка. POS ТУ Россия          7421110  \n"
          ]
        }
      ],
      "source": [
        "new4_transactions = new_transactions\n",
        "new4_transactions = new4_transactions['tr_datetime'].str.split(' ',expand=True)\n",
        "new4_transactions.columns=['tr_day','tr_time']\n",
        "new4_transactions = new4_transactions.join(new_transactions)\n",
        "new4_transactions = new4_transactions.groupby(['tr_day']).filter(lambda x: x['mcc_code'].nunique() > 75)\n",
        "new4_transactions.sort_values(by=['mcc_code','gender'], inplace=True)\n",
        "print(new4_transactions.head(5))"
      ]
    },
    {
      "cell_type": "code",
      "source": [
        "fem_or_m = new4_transactions\n",
        "fem = fem_or_m.loc[fem_or_m['gender']==0]\n",
        "m = fem_or_m.loc[fem_or_m['gender']==1]\n",
        "fem = fem.groupby(['gender', 'mcc_description']).amount.median()\n",
        "fem = fem.sort_values()#ascending = False)\n",
        "m = m.groupby(['gender', 'mcc_description']).amount.median()\n",
        "m = m.sort_values()#ascending = False)\n",
        "print(fem.head(15), m.head(15))"
      ],
      "metadata": {
        "colab": {
          "base_uri": "https://localhost:8080/"
        },
        "id": "oVO2VGPBNq3Q",
        "outputId": "9e5e6116-aa0a-455b-bb4c-70d43283db96"
      },
      "execution_count": null,
      "outputs": [
        {
          "output_type": "stream",
          "name": "stdout",
          "text": [
            "gender  mcc_description                                                    \n",
            "0.0     Генеральные подрядчики по вентиляции, теплоснабжению, и водопроводу   -674897.69\n",
            "        Организации, членства, нигде ранее не классифицируемые                -521107.48\n",
            "        Авиалинии, авиакомпании                                               -269822.97\n",
            "        Автошины                                                              -197640.59\n",
            "        Изготовление и продажа меховых изделий                                -179673.26\n",
            "        Услуги по переделке, починке и пошиву одежды                          -171722.72\n",
            "        Школы — бизнес и секретарей                                           -160582.98\n",
            "        Химикалии и смежные вещества, не классифицированные ранее             -156984.01\n",
            "        Колледжи, университеты, профессиональные школы и младшие колледжи     -134754.95\n",
            "        Авиалинии, авиакомпании, нигде более не классифицированные            -128129.49\n",
            "        Отели, мотели, базы отдыха, сервисы бронирования                      -123525.37\n",
            "        Оборудование для водопровода и отопительной системы                   -119785.92\n",
            "        Товары недлительного пользования, не классифицированные ранее         -112295.79\n",
            "        Жилье — отели, мотели, курорты                                        -108093.90\n",
            "        Электрические части и оборудование                                     -93963.50\n",
            "Name: amount, dtype: float64 gender  mcc_description                                                  \n",
            "1.0     Агентства по аренде автомобилей                                     -832370.300\n",
            "        Продажа музыкальных инструментов, фортепиано, нот                   -355651.205\n",
            "        Изготовление и продажа меховых изделий                              -302524.850\n",
            "        Галереи и художественные посредники                                 -236865.730\n",
            "        Авиалинии, авиакомпании                                             -232407.360\n",
            "        Строительные материалы — нигде более не классифицированные          -202357.010\n",
            "        Продажа мотоциклов                                                  -198202.065\n",
            "        Авиалинии, авиакомпании, нигде более не классифицированные          -194629.260\n",
            "        Туристические агентства и организаторы экскурсий                    -170577.300\n",
            "        Драгоценные камни и металлы, часы и ювелирные изделия               -125838.660\n",
            "        Магазины по продаже часов, ювелирных изделий и изделий из серебра   -122481.020\n",
            "        Продажа страхования, гарантированное размещение, премии             -105804.870\n",
            "        Продажа снегоходов                                                  -101524.380\n",
            "        Мужская одежда и аксессуары, включая одежду для мальчиков            -97528.895\n",
            "        Колледжи, университеты, профессиональные школы и младшие колледжи    -91633.360\n",
            "Name: amount, dtype: float64\n"
          ]
        }
      ]
    },
    {
      "cell_type": "code",
      "source": [
        "fem = new4_transactions\n",
        "fem = fem[fem['mcc_description'].str.contains('Флористика')]\n",
        "print(fem.groupby(['gender']).amount.median().abs())"
      ],
      "metadata": {
        "colab": {
          "base_uri": "https://localhost:8080/"
        },
        "id": "KfuVuNwEOukQ",
        "outputId": "3fc9e9a1-8d8d-4ca5-879f-83b9c870928d"
      },
      "execution_count": null,
      "outputs": [
        {
          "output_type": "stream",
          "name": "stdout",
          "text": [
            "gender\n",
            "0.0    13890.99\n",
            "1.0    18865.69\n",
            "Name: amount, dtype: float64\n"
          ]
        }
      ]
    },
    {
      "cell_type": "code",
      "source": [
        "fem = new4_transactions\n",
        "fem = fem[fem['mcc_description'].str.contains('Ценные бумаги')]\n",
        "print(fem.groupby(['gender']).amount.median().abs())"
      ],
      "metadata": {
        "colab": {
          "base_uri": "https://localhost:8080/"
        },
        "id": "LIDaMy_HQPc6",
        "outputId": "4ee6c2a9-75fc-4c58-8386-cc297614feae"
      },
      "execution_count": null,
      "outputs": [
        {
          "output_type": "stream",
          "name": "stdout",
          "text": [
            "gender\n",
            "0.0     6737.75\n",
            "1.0    11229.58\n",
            "Name: amount, dtype: float64\n"
          ]
        }
      ]
    },
    {
      "cell_type": "code",
      "source": [
        "fem = new4_transactions\n",
        "fem = fem[fem['mcc_description'].str.contains('Бары, коктейль-бары')]\n",
        "print(fem.groupby(['gender']).amount.median().abs())"
      ],
      "metadata": {
        "colab": {
          "base_uri": "https://localhost:8080/"
        },
        "id": "tm5bOaHTQT3h",
        "outputId": "580c87ee-bb45-4623-cd93-4b6c71b2cc6f"
      },
      "execution_count": null,
      "outputs": [
        {
          "output_type": "stream",
          "name": "stdout",
          "text": [
            "gender\n",
            "0.0     9387.93\n",
            "1.0    13475.49\n",
            "Name: amount, dtype: float64\n"
          ]
        }
      ]
    },
    {
      "cell_type": "markdown",
      "metadata": {
        "id": "VszEv5L6xR5s"
      },
      "source": [
        "#### Task 5:\n",
        "1. Разбейте расходы (отрицательные значения сумм) на 5 бакетов amount_bucket равного объёма (с помощью pd.qcut), разбив все траты на категории 'Very High', 'High', 'Middle', 'Low', 'Very Low'. (\\*)\n",
        "2. Оставшиеся неотрицательные траты отнесите к категории 'Income'.\n",
        "(воспользуйтесь функцией .cat.add_categories('Income') для того, чтобы добавить новую категорию 'Income' к категориям 'Very High', 'High', 'Middle', 'Low', 'Very Low', а затем заполните пустые значения новой категорией).\n",
        "3. Из поля tr_datetime выделите час tr_hour, в который произошла транзакция, как первые 2 цифры до \":\". (\\**)\n",
        "3. После этого постройте сводную таблицу, значениями в которой является пол gender, индексы - tr_hour, столбцы - amount_bucket.\n",
        "4. Отрисуйте полученные результаты, передав их в функцию plot_pivot_table, расположенную ниже.\n",
        "5. Выберите верные ответы на вопросы ниже.\n",
        "\n",
        "#### Вопросы:\n",
        "    - +1) Ночные поступления денег (01-05 часов) в более чем 85% случаев являются мужскими.\n",
        "    - 2) Посмотрев на долю мужчин в поступлениях средств (Income), можно сделать вывод, что количество поступлений средств женщинам в целом больше, чем мужчинам.\n",
        "    - +3) Самые низкие траты в 3 часа ночи осуществляются в более 70% случаев женщинами.\n",
        "    - 4) Существуют особые часы в мелких тратах, когда женщины тратят намного больше мужчин (>80%)\n",
        "    - +5) Посмотрев на долю мужчин в максимальных тратах средств (Very High), можно сделать вывод, что количество высоких трат в каждый возможный час мужчин больше, чем у женщин.\n",
        "\n",
        "##### Пояснения:\n",
        "(\\*) Обратите внимание, что в категории Very High Должны оказаться максимальные по модулю отрицательные транзакции. <br>\n",
        "(\\**) Например, для строки \"0 10:23:26\" час будет равен 10, а для строки \"6 07:08:31\"- 07. Можно воспользоваться функциями str.split() или str.find() и \n",
        "функцией .apply(lambda x: x[])"
      ]
    },
    {
      "cell_type": "code",
      "execution_count": null,
      "metadata": {
        "id": "6HW7h2pwxR5t"
      },
      "outputs": [],
      "source": [
        "def plot_pivot_table(pivot_table):\n",
        "    plt.figure(figsize=(9, 11))\n",
        "    sns.heatmap(pivot_table, cmap=\"YlGnBu\", annot=True, \n",
        "                fmt='.3g', annot_kws={\"size\": 14, \"fontsize\": 14})\n",
        "    plt.xticks(fontsize=15)\n",
        "    plt.yticks(rotation=0, fontsize=15)\n",
        "    plt.xlabel('Bucket', size=18)\n",
        "    plt.ylabel('Hour', fontsize=18)\n",
        "    plt.title('Gender analysis per bucket and hour', fontsize=20)\n",
        "    plt.show()"
      ]
    },
    {
      "cell_type": "code",
      "execution_count": null,
      "metadata": {
        "ExecuteTime": {
          "end_time": "2020-04-23T10:39:36.365220Z",
          "start_time": "2020-04-23T10:39:36.362849Z"
        },
        "scrolled": false,
        "id": "iUsv3g_mxR5t",
        "colab": {
          "base_uri": "https://localhost:8080/",
          "height": 1000
        },
        "outputId": "1b7c3b79-ee20-4896-a493-c711a731744f"
      },
      "outputs": [
        {
          "output_type": "stream",
          "name": "stdout",
          "text": [
            "       tr_hour tr_minute tr_second tr_day   tr_time  customer_id  \\\n",
            "142549      13        31        50     70  13:31:50     91472082   \n",
            "142591      11        28        54    139  11:28:54     91472082   \n",
            "153975      09        18        56      7  09:18:56     71310841   \n",
            "154173      00        00        00    226  00:00:00     71310841   \n",
            "322798      00        00        00    362  00:00:00     20694145   \n",
            "521346      00        00        00    426  00:00:00     80197904   \n",
            "670213      00        00        00    352  00:00:00     44965738   \n",
            "965436      00        00        00    258  00:00:00     41072402   \n",
            "980355      00        00        00    445  00:00:00     60151657   \n",
            "984397      08        55        52    427  08:55:52     43934285   \n",
            "\n",
            "         tr_datetime  mcc_code  tr_type     amount   term_id  gender  \\\n",
            "142549   70 13:31:50       742     1110  -23986.38       NaN     0.0   \n",
            "142591  139 11:28:54       742     1110  -33598.90       NaN     0.0   \n",
            "153975    7 09:18:56       742     1110  -10780.40       NaN     0.0   \n",
            "154173  226 00:00:00       742     1110 -115664.66  77024569     0.0   \n",
            "322798  362 00:00:00       742     1110   -7186.93  77095209     0.0   \n",
            "521346  426 00:00:00       742     1110  -16507.48  62156300     0.0   \n",
            "670213  352 00:00:00       742     1110  -60639.73  50107256     0.0   \n",
            "965436  258 00:00:00       742     1110  -19090.28   2548401     0.0   \n",
            "980355  445 00:00:00       742     1110  -20213.24  29037953     0.0   \n",
            "984397  427 08:55:52       742     1110   -8354.81  00031681     0.0   \n",
            "\n",
            "            mcc_description          tr_description mcc_code+tr_type  \\\n",
            "142549  Ветеринарные услуги  Покупка. POS ТУ Россия          7421110   \n",
            "142591  Ветеринарные услуги  Покупка. POS ТУ Россия          7421110   \n",
            "153975  Ветеринарные услуги  Покупка. POS ТУ Россия          7421110   \n",
            "154173  Ветеринарные услуги  Покупка. POS ТУ Россия          7421110   \n",
            "322798  Ветеринарные услуги  Покупка. POS ТУ Россия          7421110   \n",
            "521346  Ветеринарные услуги  Покупка. POS ТУ Россия          7421110   \n",
            "670213  Ветеринарные услуги  Покупка. POS ТУ Россия          7421110   \n",
            "965436  Ветеринарные услуги  Покупка. POS ТУ Россия          7421110   \n",
            "980355  Ветеринарные услуги  Покупка. POS ТУ Россия          7421110   \n",
            "984397  Ветеринарные услуги  Покупка. POS ТУ Россия          7421110   \n",
            "\n",
            "       amount_bucket  \n",
            "142549          High  \n",
            "142591          High  \n",
            "153975        Middle  \n",
            "154173     Very High  \n",
            "322798        Middle  \n",
            "521346          High  \n",
            "670213     Very High  \n",
            "965436          High  \n",
            "980355          High  \n",
            "984397        Middle  \n"
          ]
        },
        {
          "output_type": "display_data",
          "data": {
            "text/plain": [
              "<Figure size 648x792 with 2 Axes>"
            ],
            "image/png": "[encoded data removed]"
          },
          "metadata": {
            "needs_background": "light"
          }
        }
      ],
      "source": [
        "new5_trs = new4_transactions\n",
        "\n",
        "new5_trs = new5_trs['tr_time'].str.split(':',expand=True)\n",
        "new5_trs.columns=['tr_hour', 'tr_minute', 'tr_second']\n",
        "new5_trs = new5_trs.join(new4_transactions)\n",
        "\n",
        "new5_trs['amount_bucket'] = pd.qcut(new5_trs[new5_trs.amount<0].amount, 5, labels=['Very High', 'High', 'Middle', 'Low', 'Very Low'])\n",
        "print(new5_trs.head(10))\n",
        "new5_trs['amount_bucket'] = new5_trs['amount_bucket'].cat.add_categories('Income').fillna('Income')  \n",
        "\n",
        "svod_table = pd.pivot_table(new5_trs,\n",
        "               index=['tr_hour'],\n",
        "               values=['gender'],\n",
        "               columns=['amount_bucket'])\n",
        "\n",
        "# print(new5_trs, \"\\n\\n\")\n",
        "# print(svod_table)\n",
        "\n",
        "# Значение приближается к единице - доля мужских трат больше, к нулю - женских\n",
        "\n",
        "plot_pivot_table(svod_table)"
      ]
    },
    {
      "cell_type": "markdown",
      "metadata": {
        "id": "mBOtat3MxR5t"
      },
      "source": [
        "#### Task 6:\n",
        "1. Измените тип поля tr_day на int.\n",
        "2. Выберите из transactions все MCC коды, которые встретились в выборке более чем 60000 раз.\n",
        "3. Сгруппируйте отфильтрованный датафрейм по дню и MCC-коду, получая средние значения суммы amount.  \n",
        "4. Далее отрисуйте зависимость средних сумм (может пригодится метод unstack()) по каждому из MCC-кодов по дням.\n",
        "5. Выберите верные ответы на вопросы ниже.\n",
        "\n",
        "#### Вопросы:\n",
        "    - +1) 2 из полученных MCC-кодов связаны с финансовыми институтами\n",
        "    - +2) 2 MCC кода, связанные со снятием наличности имеют в целом разные знаки (в одном случае почти везде - траты, в другом - пополнения)\n",
        "    - 3) Бакалейные магазины обладают максимальными средними тратами среди выбранных MCC-кодов\n",
        "    - +4) Денежные переводы имеют как минимум 3 явных минимума средних\n",
        "    - 5) Категория \"Звонки с использованием телефонов, считывающих магнитную ленту\" имеет визуально очень большую дисперсию. "
      ]
    },
    {
      "cell_type": "code",
      "execution_count": null,
      "metadata": {
        "ExecuteTime": {
          "end_time": "2020-04-23T10:40:09.383871Z",
          "start_time": "2020-04-23T10:40:09.381395Z"
        },
        "scrolled": true,
        "id": "ZKY9ldoaxR5t",
        "colab": {
          "base_uri": "https://localhost:8080/",
          "height": 558
        },
        "outputId": "40916269-9d97-4219-e276-ad1ad7ecf87e"
      },
      "outputs": [
        {
          "output_type": "stream",
          "name": "stdout",
          "text": [
            "mcc_code         4814          5411           6010           6011\n",
            "tr_day                                                           \n",
            "3        -5683.344844 -12584.078209  104576.823744  -49753.475536\n",
            "4        -7071.730388 -12376.649916  110324.802287  -54339.135414\n",
            "7        -4719.982607 -17544.912790   74619.473672  -47735.545047\n",
            "13       -5680.071896 -12954.781498   75577.822107  -76616.668000\n",
            "14       -5444.711533 -17603.572022  131287.530207 -100740.210087\n",
            "...               ...           ...            ...            ...\n",
            "452      -5084.165513 -11805.167583   97106.748032  -57168.723509\n",
            "453      -5684.247016 -11932.826972  116383.905616  -63716.595522\n",
            "454      -4786.101095 -13345.274312  105039.577393  -28649.792782\n",
            "455      -5007.255934 -12953.262927  100973.037396  -16193.186198\n",
            "456      -5945.182500 -15411.548528  109925.614017   18406.478780\n",
            "\n",
            "[270 rows x 4 columns]\n"
          ]
        },
        {
          "output_type": "execute_result",
          "data": {
            "text/plain": [
              "<matplotlib.axes._subplots.AxesSubplot at 0x7f17dfeeb590>"
            ]
          },
          "metadata": {},
          "execution_count": 66
        },
        {
          "output_type": "display_data",
          "data": {
            "text/plain": [
              "<Figure size 432x288 with 1 Axes>"
            ],
            "image/png": "[encoded data removed]"
          },
          "metadata": {}
        }
      ],
      "source": [
        "new6_trs = new4_transactions.copy()\n",
        "new6_trs['tr_day'] = new6_trs['tr_day'].astype('int')\n",
        "print(new6_trs.dtypes)\n",
        "\n",
        "print(new6_trs['mcc_code'].value_counts())\n",
        "test_trs=new6_trs.groupby('mcc_code')['mcc_code'].agg(['count'])\n",
        "test_trs = test_trs.loc[test_trs['count']>60000]\n",
        "print(test_trs) # 4814 5411 6010 6011 \n",
        "print(new6_trs[new6_trs['mcc_code']==4814]['mcc_description'].head(1)) # Звонки с использованием телефонов, считывающих магнитную ленту\n",
        "print(new6_trs[new6_trs['mcc_code']==5411]['mcc_description'].head(1)) # Бакалейные магазины, супермаркеты\n",
        "print(new6_trs[new6_trs['mcc_code']==6010]['mcc_description'].head(1)) # Финансовые институты — снятие наличности вручную\n",
        "print(new6_trs[new6_trs['mcc_code']==6011]['mcc_description'].head(1)) # Финансовые институты — снятие наличности автоматически\n",
        "\n",
        "new6_trs = new6_trs[(new6_trs['mcc_code'] == 4814) | (new6_trs['mcc_code'] == 5411) | (new6_trs['mcc_code'] == 6010) | (new6_trs['mcc_code'] == 6011)]\n",
        "\n",
        "new6_trs=new6_trs.groupby(['tr_day', 'mcc_code'])['amount'].mean()\n",
        "new6_trs = new6_trs.unstack(level=-1)\n",
        "print(new6_trs)\n",
        "\n",
        "new6_trs.plot()"
      ]
    },
    {
      "cell_type": "code",
      "source": [
        "# OR \n",
        "def plot_pivot_table_custom(pivot_table):\n",
        "    plt.figure(figsize=(40, 80))\n",
        "    sns.heatmap(pivot_table, cmap=\"YlGnBu\", annot=True, \n",
        "                fmt='.3g', annot_kws={\"size\": 14, \"fontsize\": 14})\n",
        "    plt.xticks(fontsize=15)\n",
        "    plt.yticks(rotation=0, fontsize=15)\n",
        "    plt.xlabel('Mcc Code', size=18)\n",
        "    plt.ylabel('Tr Day', fontsize=18)\n",
        "    plt.title('Analysis', fontsize=20)\n",
        "    plt.show()\n",
        "plot_pivot_table_custom(new6_trs)"
      ],
      "metadata": {
        "id": "6nc6yRsHJLgx"
      },
      "execution_count": null,
      "outputs": []
    }
  ],
  "metadata": {
    "hide_input": false,
    "kernelspec": {
      "display_name": "Python 3",
      "language": "python",
      "name": "python3"
    },
    "language_info": {
      "codemirror_mode": {
        "name": "ipython",
        "version": 3
      },
      "file_extension": ".py",
      "mimetype": "text/x-python",
      "name": "python",
      "nbconvert_exporter": "python",
      "pygments_lexer": "ipython3",
      "version": "3.8.5"
    },
    "toc": {
      "base_numbering": 1,
      "nav_menu": {},
      "number_sections": true,
      "sideBar": true,
      "skip_h1_title": false,
      "title_cell": "Table of Contents",
      "title_sidebar": "Contents",
      "toc_cell": true,
      "toc_position": {},
      "toc_section_display": true,
      "toc_window_display": false
    },
    "varInspector": {
      "cols": {
        "lenName": 16,
        "lenType": 16,
        "lenVar": 40
      },
      "kernels_config": {
        "python": {
          "delete_cmd_postfix": "",
          "delete_cmd_prefix": "del ",
          "library": "var_list.py",
          "varRefreshCmd": "print(var_dic_list())"
        },
        "r": {
          "delete_cmd_postfix": ") ",
          "delete_cmd_prefix": "rm(",
          "library": "var_list.r",
          "varRefreshCmd": "cat(var_dic_list()) "
        }
      },
      "types_to_exclude": [
        "module",
        "function",
        "builtin_function_or_method",
        "instance",
        "_Feature"
      ],
      "window_display": false
    },
    "colab": {
      "provenance": [],
      "collapsed_sections": []
    }
  },
  "nbformat": 4,
  "nbformat_minor": 0
}